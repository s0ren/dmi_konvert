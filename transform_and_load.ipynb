{
 "cells": [
  {
   "cell_type": "markdown",
   "metadata": {},
   "source": [
    "# Tranformation af DMI metobs historiske data 1954-2024"
   ]
  },
  {
   "cell_type": "markdown",
   "metadata": {},
   "source": [
    "Først skal man nok lave et virtuelt environment til at installere python pakker i lokalt.\n",
    "\n",
    "```\n",
    "venv create ..."
   ]
  },
  {
   "cell_type": "markdown",
   "metadata": {},
   "source": [
    "# Indlæs json filer i DuckDB "
   ]
  },
  {
   "cell_type": "code",
   "execution_count": 41,
   "metadata": {
    "vscode": {
     "languageId": "shellscript"
    }
   },
   "outputs": [
    {
     "name": "stdout",
     "output_type": "stream",
     "text": [
      "Requirement already satisfied: duckdb in c:\\users\\smag\\documents\\foolaround\\dmi_konvert\\.venv\\lib\\site-packages (1.1.2)\n",
      "Note: you may need to restart the kernel to use updated packages.\n"
     ]
    }
   ],
   "source": [
    "pip install duckdb"
   ]
  },
  {
   "cell_type": "code",
   "execution_count": 42,
   "metadata": {},
   "outputs": [
    {
     "data": {
      "text/plain": [
       "┌───────┐\n",
       "│   k   │\n",
       "│ int32 │\n",
       "├───────┤\n",
       "│    84 │\n",
       "└───────┘"
      ]
     },
     "execution_count": 42,
     "metadata": {},
     "output_type": "execute_result"
    }
   ],
   "source": [
    "import duckdb\n",
    "\n",
    "r1 = duckdb.sql(\"SELECT 42 AS i\")\n",
    "duckdb.sql(\"SELECT i * 2 AS k FROM r1\")"
   ]
  },
  {
   "cell_type": "code",
   "execution_count": 43,
   "metadata": {},
   "outputs": [
    {
     "data": {
      "text/plain": [
       "┌─────────────┬─────────────────────────────────────────────────────────────────────────────────────────────────────┬─────────┬─────────┬─────────┬─────────┐\n",
       "│ column_name │                                             column_type                                             │  null   │   key   │ default │  extra  │\n",
       "│   varchar   │                                               varchar                                               │ varchar │ varchar │ varchar │ varchar │\n",
       "├─────────────┼─────────────────────────────────────────────────────────────────────────────────────────────────────┼─────────┼─────────┼─────────┼─────────┤\n",
       "│ geometry    │ STRUCT(coordinates DOUBLE[], \"type\" VARCHAR)                                                        │ YES     │ NULL    │ NULL    │ NULL    │\n",
       "│ properties  │ STRUCT(created VARCHAR, observed TIMESTAMP, parameterId VARCHAR, stationId VARCHAR, \"value\" DOUBLE) │ YES     │ NULL    │ NULL    │ NULL    │\n",
       "│ type        │ VARCHAR                                                                                             │ YES     │ NULL    │ NULL    │ NULL    │\n",
       "│ id          │ UUID                                                                                                │ YES     │ NULL    │ NULL    │ NULL    │\n",
       "└─────────────┴─────────────────────────────────────────────────────────────────────────────────────────────────────┴─────────┴─────────┴─────────┴─────────┘"
      ]
     },
     "execution_count": 43,
     "metadata": {},
     "output_type": "execute_result"
    }
   ],
   "source": [
    "import duckdb\n",
    "\n",
    "duckdb.sql(\"DESCRIBE FROM read_json('./raw_text/1965*.txt');\")"
   ]
  },
  {
   "cell_type": "code",
   "execution_count": 44,
   "metadata": {},
   "outputs": [
    {
     "data": {
      "text/plain": [
       "┌─────────────┬─────────────────────────────────────────────────────────────────────────────────────────────────────┬─────────┬─────────┬─────────┬─────────┐\n",
       "│ column_name │                                             column_type                                             │  null   │   key   │ default │  extra  │\n",
       "│   varchar   │                                               varchar                                               │ varchar │ varchar │ varchar │ varchar │\n",
       "├─────────────┼─────────────────────────────────────────────────────────────────────────────────────────────────────┼─────────┼─────────┼─────────┼─────────┤\n",
       "│ geometry    │ STRUCT(coordinates DOUBLE[], \"type\" VARCHAR)                                                        │ YES     │ NULL    │ NULL    │ NULL    │\n",
       "│ properties  │ STRUCT(created VARCHAR, observed TIMESTAMP, parameterId VARCHAR, stationId VARCHAR, \"value\" DOUBLE) │ YES     │ NULL    │ NULL    │ NULL    │\n",
       "│ type        │ VARCHAR                                                                                             │ YES     │ NULL    │ NULL    │ NULL    │\n",
       "│ id          │ UUID                                                                                                │ YES     │ NULL    │ NULL    │ NULL    │\n",
       "└─────────────┴─────────────────────────────────────────────────────────────────────────────────────────────────────┴─────────┴─────────┴─────────┴─────────┘"
      ]
     },
     "execution_count": 44,
     "metadata": {},
     "output_type": "execute_result"
    }
   ],
   "source": [
    "import duckdb\n",
    "\n",
    "duckdb.sql(\"DESCRIBE FROM read_json('./raw_text/2001*.txt');\")"
   ]
  },
  {
   "cell_type": "code",
   "execution_count": 45,
   "metadata": {},
   "outputs": [
    {
     "name": "stdout",
     "output_type": "stream",
     "text": [
      "┌─────────┬──────────────────────────────────────┬─────────────────────┬─────────┬─────────────────────────────┬─────────────────────┬─────────────────┬───────────┬─────────┐\n",
      "│  type   │                  id                  │     coordinates     │  type   │           created           │      observed       │   parameterId   │ stationId │  value  │\n",
      "│ varchar │                 uuid                 │      double[]       │ varchar │           varchar           │      timestamp      │     varchar     │  varchar  │ double  │\n",
      "├─────────┼──────────────────────────────────────┼─────────────────────┼─────────┼─────────────────────────────┼─────────────────────┼─────────────────┼───────────┼─────────┤\n",
      "│ Feature │ 023ae7f0-0fcb-5815-5cb9-a20f7c1e446b │ [11.964, 54.5639]   │ Point   │ 2023-07-08T10:05:01.617937Z │ 1965-01-01 21:00:00 │ cloud_cover     │ 06149     │   100.0 │\n",
      "│ Feature │ 028a88f6-7639-e722-8ffc-c2425e2df127 │ NULL                │ NULL    │ 2023-12-19T22:57:56.133346Z │ 1965-01-01 21:00:00 │ visibility      │ 06011     │ 10000.0 │\n",
      "│ Feature │ 03a74e8f-d270-5617-bb41-a8ffa07731de │ [12.1791, 54.4536]  │ Point   │ 2023-07-07T22:22:46.985397Z │ 1965-01-01 21:00:00 │ wind_dir        │ 06147     │   250.0 │\n",
      "│ Feature │ 05478c8f-9d98-a871-811f-759c9bc8ac9d │ [10.3297, 55.4735]  │ Point   │ 2023-07-07T10:34:38.143664Z │ 1965-01-01 21:00:00 │ humidity        │ 06120     │    97.0 │\n",
      "│ Feature │ 056c4c97-9835-6f79-36bc-2cc754f71639 │ [-51.75, 64.1667]   │ Point   │ 2023-07-07T10:34:38.418053Z │ 1965-01-01 21:00:00 │ humidity        │ 04250     │    89.0 │\n",
      "│ Feature │ 093c43ae-ed97-e079-7da3-ad61330904e7 │ NULL                │ NULL    │ 2023-12-19T22:57:56.109524Z │ 1965-01-01 21:00:00 │ wind_speed      │ 06009     │     9.3 │\n",
      "│ Feature │ 0971ecf7-2b50-0e07-fabb-204ca07c58ac │ [11.964, 54.5639]   │ Point   │ 2023-07-07T22:22:47.038171Z │ 1965-01-01 21:00:00 │ wind_dir        │ 06149     │   250.0 │\n",
      "│ Feature │ 09d86d0e-c220-1c93-ab5a-62665df13a5b │ NULL                │ NULL    │ 2023-12-19T22:57:56.109492Z │ 1965-01-01 21:00:00 │ wind_dir        │ 06009     │   360.0 │\n",
      "│ Feature │ 0d407435-64ad-c8db-fc1b-3511b21c14a2 │ [15.1875, 55.3218]  │ Point   │ 2024-07-01T15:28:30.229445Z │ 1965-01-01 21:00:00 │ visibility      │ 06191     │ 20000.0 │\n",
      "│ Feature │ 0e7f20ca-159d-3cfa-fdb0-04d322216b8d │ [12.1791, 54.4536]  │ Point   │ 2023-07-08T10:05:01.555139Z │ 1965-01-01 21:00:00 │ cloud_cover     │ 06147     │   100.0 │\n",
      "│    ·    │                  ·                   │         ·           │   ·     │              ·              │          ·          │    ·            │   ·       │     ·   │\n",
      "│    ·    │                  ·                   │         ·           │   ·     │              ·              │          ·          │    ·            │   ·       │     ·   │\n",
      "│    ·    │                  ·                   │         ·           │   ·     │              ·              │          ·          │    ·            │   ·       │     ·   │\n",
      "│ Feature │ 5cd5770b-262e-8fbb-7df5-0aa3be87534b │ [9.1138, 56.2935]   │ Point   │ 2023-12-19T22:57:53.374480Z │ 1965-01-04 00:00:00 │ wind_dir        │ 06060     │   340.0 │\n",
      "│ Feature │ 5e4e0155-480a-9a7a-5f35-03251be72b2a │ [-52.85, 70.05]     │ Point   │ 2023-07-07T10:34:38.371391Z │ 1965-01-04 00:00:00 │ humidity        │ 04214     │    65.0 │\n",
      "│ Feature │ 5e9fd0d2-1d27-a393-0745-8501f14bce13 │ [10.9579, 56.4432]  │ Point   │ 2024-04-24T07:09:50.698113Z │ 1965-01-04 00:00:00 │ visibility      │ 06071     │ 20000.0 │\n",
      "│ Feature │ 5fb41b7f-c798-4739-050e-a68300f66656 │ [-52.8517, 68.7081] │ Point   │ 2023-07-08T10:05:02.107416Z │ 1965-01-04 00:00:00 │ visibility      │ 04220     │ 20000.0 │\n",
      "│ Feature │ 5fcc4732-1dc4-4257-2785-aaa3f8774b3c │ [-51.75, 64.1667]   │ Point   │ 2023-07-08T10:05:02.167345Z │ 1965-01-04 00:00:00 │ weather         │ 04250     │     2.0 │\n",
      "│ Feature │ 609a11b0-fe13-87dd-e085-6acd3a783ce0 │ [10.6318, 57.7363]  │ Point   │ 2023-07-07T10:34:38.340507Z │ 1965-01-04 00:00:00 │ pressure_at_sea │ 06041     │  1019.6 │\n",
      "│ Feature │ 60dbb69d-1e51-47e6-93d9-ccfd11706414 │ [11.2805, 56.0067]  │ Point   │ 2023-07-08T10:05:01.793166Z │ 1965-01-04 00:00:00 │ cloud_cover     │ 06169     │     0.0 │\n",
      "│ Feature │ 62d1830c-52bf-c071-d625-3f9ba2d0fb84 │ [-45.4256, 61.1608] │ Point   │ 2024-03-18T23:34:48.386141Z │ 1965-01-04 00:00:00 │ wind_dir        │ 04270     │    90.0 │\n",
      "│ Feature │ 62d6acd8-6833-9b0f-8235-a5e0badaafd1 │ [8.2206, 56.705]    │ Point   │ 2023-07-07T22:22:46.413681Z │ 1965-01-04 00:00:00 │ wind_speed      │ 06052     │     0.0 │\n",
      "│ Feature │ 66b8b4b6-c05e-23a7-ab1a-6b7efd0b0723 │ [-52.8517, 68.7081] │ Point   │ 2023-07-07T22:22:47.575865Z │ 1965-01-04 00:00:00 │ temp_dry        │ 04220     │   -15.8 │\n",
      "├─────────┴──────────────────────────────────────┴─────────────────────┴─────────┴─────────────────────────────┴─────────────────────┴─────────────────┴───────────┴─────────┤\n",
      "│ ? rows (>9999 rows, 20 shown)                                                                                                                                    9 columns │\n",
      "└────────────────────────────────────────────────────────────────────────────────────────────────────────────────────────────────────────────────────────────────────────────┘\n",
      "\n"
     ]
    }
   ],
   "source": [
    "obs_1965_long = duckdb.sql(\n",
    "\"\"\"\n",
    "    FROM read_json('./raw_text/1965*.txt') select type, id, unnest(geometry),  unnest(properties)\n",
    "\"\"\"\n",
    ")\n",
    "obs_1965_long.show()"
   ]
  },
  {
   "cell_type": "code",
   "execution_count": 46,
   "metadata": {},
   "outputs": [],
   "source": [
    "duckdb.sql(\n",
    "\"\"\"\n",
    "copy ( SELECT * FROM obs_1965_long )\n",
    "to 'metobs_1965_long.parquet' (FORMAT PARQUET, CODEC 'SNAPPY', ROW_GROUP_SIZE 100000);\n",
    "\"\"\"\n",
    ")"
   ]
  },
  {
   "cell_type": "code",
   "execution_count": 47,
   "metadata": {},
   "outputs": [
    {
     "name": "stdout",
     "output_type": "stream",
     "text": [
      "┌─────────────────────┬───────────┬─────────────────┬─────────┐\n",
      "│      observed       │ stationId │   parameterId   │  value  │\n",
      "│      timestamp      │  varchar  │     varchar     │ double  │\n",
      "├─────────────────────┼───────────┼─────────────────┼─────────┤\n",
      "│ 1965-01-01 21:00:00 │ 06149     │ cloud_cover     │   100.0 │\n",
      "│ 1965-01-01 21:00:00 │ 06011     │ visibility      │ 10000.0 │\n",
      "│ 1965-01-01 21:00:00 │ 06147     │ wind_dir        │   250.0 │\n",
      "│ 1965-01-01 21:00:00 │ 06120     │ humidity        │    97.0 │\n",
      "│ 1965-01-01 21:00:00 │ 04250     │ humidity        │    89.0 │\n",
      "│ 1965-01-01 21:00:00 │ 06009     │ wind_speed      │     9.3 │\n",
      "│ 1965-01-01 21:00:00 │ 06149     │ wind_dir        │   250.0 │\n",
      "│ 1965-01-01 21:00:00 │ 06009     │ wind_dir        │   360.0 │\n",
      "│ 1965-01-01 21:00:00 │ 06191     │ visibility      │ 20000.0 │\n",
      "│ 1965-01-01 21:00:00 │ 06147     │ cloud_cover     │   100.0 │\n",
      "│          ·          │   ·       │    ·            │     ·   │\n",
      "│          ·          │   ·       │    ·            │     ·   │\n",
      "│          ·          │   ·       │    ·            │     ·   │\n",
      "│ 1965-01-04 00:00:00 │ 06060     │ wind_dir        │   340.0 │\n",
      "│ 1965-01-04 00:00:00 │ 04214     │ humidity        │    65.0 │\n",
      "│ 1965-01-04 00:00:00 │ 06071     │ visibility      │ 20000.0 │\n",
      "│ 1965-01-04 00:00:00 │ 04220     │ visibility      │ 20000.0 │\n",
      "│ 1965-01-04 00:00:00 │ 04250     │ weather         │     2.0 │\n",
      "│ 1965-01-04 00:00:00 │ 06041     │ pressure_at_sea │  1019.6 │\n",
      "│ 1965-01-04 00:00:00 │ 06169     │ cloud_cover     │     0.0 │\n",
      "│ 1965-01-04 00:00:00 │ 04270     │ wind_dir        │    90.0 │\n",
      "│ 1965-01-04 00:00:00 │ 06052     │ wind_speed      │     0.0 │\n",
      "│ 1965-01-04 00:00:00 │ 04220     │ temp_dry        │   -15.8 │\n",
      "├─────────────────────┴───────────┴─────────────────┴─────────┤\n",
      "│ ? rows (>9999 rows, 20 shown)                     4 columns │\n",
      "└─────────────────────────────────────────────────────────────┘\n",
      "\n"
     ]
    }
   ],
   "source": [
    "obs_1965_long_ = duckdb.sql(\n",
    "\"\"\"\n",
    "SELECT observed, stationId, parameterId,  value from obs_1965_long -- limit 1000\n",
    "\"\"\"\n",
    ")\n",
    "obs_1965_long_.show()"
   ]
  },
  {
   "cell_type": "code",
   "execution_count": 48,
   "metadata": {},
   "outputs": [
    {
     "name": "stdout",
     "output_type": "stream",
     "text": [
      "┌─────────────────────┬───────────┬─────────────┬──────────────┬──────────┬─────────────────┬──────────┬──────────┬──────────────────┬──────────────────┬────────────┬─────────┬──────────┬────────────┐\n",
      "│      observed       │ stationId │ cloud_cover │ cloud_height │ humidity │ pressure_at_sea │ temp_dew │ temp_dry │ temp_max_past12h │ temp_min_past12h │ visibility │ weather │ wind_dir │ wind_speed │\n",
      "│      timestamp      │  varchar  │   double    │    double    │  double  │     double      │  double  │  double  │      double      │      double      │   double   │ double  │  double  │   double   │\n",
      "├─────────────────────┼───────────┼─────────────┼──────────────┼──────────┼─────────────────┼──────────┼──────────┼──────────────────┼──────────────────┼────────────┼─────────┼──────────┼────────────┤\n",
      "│ 1965-01-01 21:00:00 │ 04270     │        10.0 │       2600.0 │     70.0 │          1026.1 │    -20.2 │    -16.0 │             NULL │             NULL │    75000.0 │     2.0 │     90.0 │        2.6 │\n",
      "│ 1965-01-01 18:00:00 │ 06119     │         0.0 │       2600.0 │     84.0 │           993.6 │      0.8 │      3.2 │              5.2 │              3.0 │    25000.0 │     1.0 │    250.0 │       12.9 │\n",
      "│ 1965-01-01 18:00:00 │ 06190     │        90.0 │        450.0 │     95.0 │           995.8 │      3.8 │      4.5 │              4.9 │              3.7 │    15000.0 │     3.0 │    230.0 │       10.3 │\n",
      "│ 1965-01-01 15:00:00 │ 04360     │        60.0 │       2600.0 │     72.0 │          1025.0 │    -19.3 │    -15.4 │             NULL │             NULL │    30000.0 │     2.0 │      0.0 │        0.0 │\n",
      "│ 1965-01-01 15:00:00 │ 06180     │        25.0 │        450.0 │     92.0 │           992.9 │      2.2 │      3.4 │             NULL │             NULL │    15000.0 │     1.0 │    230.0 │        8.2 │\n",
      "│ 1965-01-01 12:00:00 │ 06120     │        40.0 │        800.0 │     93.0 │           992.4 │      3.7 │      4.8 │             NULL │             NULL │    25000.0 │     2.0 │    240.0 │        8.2 │\n",
      "│ 1965-01-01 12:00:00 │ 06111     │        25.0 │         NULL │     94.0 │            NULL │      3.1 │      4.0 │             NULL │             NULL │    16000.0 │     2.0 │    230.0 │        7.7 │\n",
      "│ 1965-01-01 09:00:00 │ 06190     │       100.0 │        450.0 │     94.0 │           994.7 │      3.5 │      4.4 │             NULL │             NULL │    20000.0 │     2.0 │    230.0 │       11.8 │\n",
      "│ 1965-01-01 09:00:00 │ 06119     │        60.0 │        450.0 │     89.0 │           992.4 │      1.8 │      3.4 │             NULL │             NULL │    10000.0 │    25.0 │    250.0 │       11.8 │\n",
      "│ 1965-01-01 06:00:00 │ 06110     │       100.0 │        150.0 │     99.0 │           990.0 │      2.6 │      2.8 │              4.5 │              2.0 │     5000.0 │    80.0 │    250.0 │       10.3 │\n",
      "│          ·          │   ·       │         ·   │          ·   │       ·  │             ·   │       ·  │       ·  │               ·  │               ·  │        ·   │      ·  │      ·   │         ·  │\n",
      "│          ·          │   ·       │         ·   │          ·   │       ·  │             ·   │       ·  │       ·  │               ·  │               ·  │        ·   │      ·  │      ·   │         ·  │\n",
      "│          ·          │   ·       │         ·   │          ·   │       ·  │             ·   │       ·  │       ·  │               ·  │               ·  │        ·   │      ·  │      ·   │         ·  │\n",
      "│ 1965-05-10 09:00:00 │ 06191     │       100.0 │        800.0 │     95.0 │           997.5 │      4.7 │      5.4 │             NULL │             NULL │    10000.0 │    63.0 │    320.0 │        5.1 │\n",
      "│ 1965-05-10 09:00:00 │ 06081     │       100.0 │        450.0 │     88.0 │          1006.4 │      5.9 │      7.8 │             NULL │             NULL │    10000.0 │     2.0 │    320.0 │       11.8 │\n",
      "│ 1965-05-10 06:00:00 │ 06110     │        90.0 │        250.0 │     97.0 │          1001.4 │      7.0 │      7.5 │              8.5 │              6.1 │    10000.0 │    25.0 │    320.0 │        8.2 │\n",
      "│ 1965-05-10 03:00:00 │ 06119     │       100.0 │        250.0 │     89.0 │           999.6 │      5.5 │      7.2 │             NULL │             NULL │     8000.0 │    61.0 │    290.0 │        7.7 │\n",
      "│ 1965-05-10 00:00:00 │ 04270     │        90.0 │       1250.0 │     34.0 │          1012.8 │     -7.1 │      7.8 │             NULL │             NULL │    30000.0 │     3.0 │     40.0 │        6.2 │\n",
      "│ 1965-05-11 21:00:00 │ 06183     │        25.0 │        800.0 │     NULL │            NULL │     NULL │     11.2 │             NULL │             NULL │    25000.0 │     1.0 │    360.0 │        4.6 │\n",
      "│ 1965-05-11 21:00:00 │ 06147     │         0.0 │       2600.0 │     NULL │            NULL │     NULL │      9.5 │             NULL │             NULL │    22000.0 │     2.0 │    340.0 │        3.1 │\n",
      "│ 1965-05-11 18:00:00 │ 04205     │       100.0 │       2600.0 │     46.0 │          1009.6 │     -7.7 │      2.7 │              2.7 │             -7.8 │    45000.0 │     2.0 │     90.0 │        5.1 │\n",
      "│ 1965-05-11 18:00:00 │ 04260     │        90.0 │        150.0 │     94.0 │          1012.3 │     -0.1 │      0.8 │              2.0 │             -0.8 │    20000.0 │     2.0 │    310.0 │        6.7 │\n",
      "│ 1965-05-11 15:00:00 │ 06065     │         0.0 │       2600.0 │     41.0 │            NULL │      3.7 │     17.0 │             NULL │             NULL │    25000.0 │     2.0 │     20.0 │        2.6 │\n",
      "├─────────────────────┴───────────┴─────────────┴──────────────┴──────────┴─────────────────┴──────────┴──────────┴──────────────────┴──────────────────┴────────────┴─────────┴──────────┴────────────┤\n",
      "│ ? rows (>9999 rows, 20 shown)                                                                                                                                                             14 columns │\n",
      "└──────────────────────────────────────────────────────────────────────────────────────────────────────────────────────────────────────────────────────────────────────────────────────────────────────┘\n",
      "\n"
     ]
    }
   ],
   "source": [
    "obs_1965_wide = duckdb.sql(\n",
    "\"\"\"\n",
    "PIVOT obs_1965_long_ \n",
    "ON (parameterId)\n",
    "USING first(value)\n",
    "\"\"\"\n",
    ")\n",
    "obs_1965_wide.show()"
   ]
  },
  {
   "cell_type": "markdown",
   "metadata": {},
   "source": [
    "Alle operationer fra 1965, gentaget for året 2001, i en celle"
   ]
  },
  {
   "cell_type": "code",
   "execution_count": 49,
   "metadata": {},
   "outputs": [
    {
     "name": "stdout",
     "output_type": "stream",
     "text": [
      "┌─────────────────────┬───────────┬─────────────┬──────────────┬──────────┬─────────────────┬────────────────────────┬─────────────────────┬──────────────────────┬───────────────────┬──────────────────┬───────────────┬──────────┬─────────────────┬────────────┬───────────────────┬────────────────┬────────────────┬────────────────────┬─────────────────┬──────────┬──────────┬────────────┬───────────────────────┬────────────────────────┬───────────────────────┬──────────────────┬─────────────────┬──────────────────┬──────────────────┬─────────────────┬───────────┬──────────────────────┬───────────────────────┬──────────────────────┬──────────────────────┬────────────┬─────────┬──────────┬─────────────────┬──────────────────────────┬──────────┬─────────────────┬────────────┬───────────────────┐\n",
      "│      observed       │ stationId │ cloud_cover │ cloud_height │ humidity │ humidity_past1h │ leav_hum_dur_past10min │ leav_hum_dur_past1h │ precip_dur_past10min │ precip_dur_past1h │ precip_past10min │ precip_past1h │ pressure │ pressure_at_sea │ radia_glob │ radia_glob_past1h │ snow_cover_man │ snow_depth_man │ sun_last10min_glob │ sun_last1h_glob │ temp_dew │ temp_dry │ temp_grass │ temp_grass_max_past1h │ temp_grass_mean_past1h │ temp_grass_min_past1h │ temp_max_past12h │ temp_max_past1h │ temp_mean_past1h │ temp_min_past12h │ temp_min_past1h │ temp_soil │ temp_soil_max_past1h │ temp_soil_mean_past1h │ temp_soil_min_past1h │ visib_mean_last10min │ visibility │ weather │ wind_dir │ wind_dir_past1h │ wind_max_per10min_past1h │ wind_min │ wind_min_past1h │ wind_speed │ wind_speed_past1h │\n",
      "│      timestamp      │  varchar  │   double    │    double    │  double  │     double      │         double         │       double        │        double        │      double       │      double      │    double     │  double  │     double      │   double   │      double       │     double     │     double     │       double       │     double      │  double  │  double  │   double   │        double         │         double         │        double         │      double      │     double      │      double      │      double      │     double      │  double   │        double        │        double         │        double        │        double        │   double   │ double  │  double  │     double      │          double          │  double  │     double      │   double   │      double       │\n",
      "├─────────────────────┼───────────┼─────────────┼──────────────┼──────────┼─────────────────┼────────────────────────┼─────────────────────┼──────────────────────┼───────────────────┼──────────────────┼───────────────┼──────────┼─────────────────┼────────────┼───────────────────┼────────────────┼────────────────┼────────────────────┼─────────────────┼──────────┼──────────┼────────────┼───────────────────────┼────────────────────────┼───────────────────────┼──────────────────┼─────────────────┼──────────────────┼──────────────────┼─────────────────┼───────────┼──────────────────────┼───────────────────────┼──────────────────────┼──────────────────────┼────────────┼─────────┼──────────┼─────────────────┼──────────────────────────┼──────────┼─────────────────┼────────────┼───────────────────┤\n",
      "│ 2001-01-01 21:00:00 │ 06124     │        NULL │         NULL │     94.0 │            NULL │                   NULL │                NULL │                 NULL │              NULL │             NULL │          NULL │    995.7 │           996.6 │       NULL │              NULL │           NULL │           NULL │               NULL │            NULL │      0.5 │      1.4 │       NULL │                  NULL │                   NULL │                  NULL │             NULL │            NULL │             NULL │             NULL │            NULL │      NULL │                 NULL │                  NULL │                 NULL │               4300.0 │     3800.0 │   162.0 │    170.0 │            NULL │                     NULL │     NULL │            NULL │        5.1 │              NULL │\n",
      "│ 2001-01-01 21:00:00 │ 06069     │        NULL │         NULL │     96.0 │            96.0 │                   10.0 │                58.0 │                 NULL │              NULL │             NULL │          NULL │    986.7 │           993.9 │        0.0 │               0.0 │           NULL │           NULL │                0.0 │             0.0 │      0.2 │      0.8 │        0.4 │                   0.4 │                    0.3 │                   0.2 │             NULL │             0.8 │              0.7 │             NULL │             0.6 │       1.6 │                  1.6 │                   1.6 │                  1.5 │                 NULL │       NULL │    NULL │    158.0 │           156.0 │                      7.1 │     NULL │            NULL │        5.7 │               6.1 │\n",
      "│ 2001-01-01 21:00:00 │ 06079     │        90.0 │        150.0 │     91.0 │            91.0 │                   NULL │                NULL │                  5.0 │               5.0 │              0.4 │           0.4 │    996.3 │           996.8 │       NULL │              NULL │           NULL │           NULL │               NULL │            NULL │      0.8 │      2.1 │       NULL │                  NULL │                   NULL │                  NULL │             NULL │             2.3 │              2.2 │             NULL │             2.1 │      NULL │                 NULL │                  NULL │                 NULL │               5600.0 │     5000.0 │   181.0 │    181.0 │           182.0 │                     15.2 │     NULL │            NULL │       14.1 │              13.9 │\n",
      "│ 2001-01-01 19:50:00 │ 06168     │        NULL │         NULL │     93.0 │            NULL │                   NULL │                NULL │                 NULL │              NULL │             NULL │          NULL │    993.4 │           998.8 │       NULL │              NULL │           NULL │           NULL │               NULL │            NULL │     -0.8 │      0.2 │       NULL │                  NULL │                   NULL │                  NULL │             NULL │            NULL │             NULL │             NULL │            NULL │      NULL │                 NULL │                  NULL │                 NULL │                 NULL │       NULL │    NULL │    159.0 │            NULL │                     NULL │     NULL │            NULL │        8.1 │              NULL │\n",
      "│ 2001-01-01 19:20:00 │ 06081     │        NULL │         NULL │     95.0 │            NULL │                   NULL │                NULL │                 NULL │              NULL │              0.0 │          NULL │    990.7 │           992.8 │       NULL │              NULL │           NULL │           NULL │               NULL │            NULL │      3.2 │      3.9 │       NULL │                  NULL │                   NULL │                  NULL │             NULL │            NULL │             NULL │             NULL │            NULL │      NULL │                 NULL │                  NULL │                 NULL │                 NULL │       NULL │    NULL │    171.0 │            NULL │                     NULL │     NULL │            NULL │        7.3 │              NULL │\n",
      "│ 2001-01-01 17:00:00 │ 06168     │        NULL │         NULL │     62.0 │            71.0 │                   NULL │                NULL │                 NULL │              NULL │             NULL │          NULL │    993.1 │           998.4 │       NULL │              NULL │           NULL │           NULL │               NULL │            NULL │     -4.1 │      2.5 │       NULL │                  NULL │                   NULL │                  NULL │             NULL │             2.5 │              2.5 │             NULL │             2.4 │      NULL │                 NULL │                  NULL │                 NULL │                 NULL │       NULL │    NULL │    158.0 │           154.0 │                     12.8 │     NULL │             5.7 │       12.0 │              10.9 │\n",
      "│ 2001-01-01 16:00:00 │ 06124     │        NULL │         NULL │     92.0 │            NULL │                   NULL │                NULL │                 NULL │              NULL │             NULL │          NULL │    997.2 │           998.1 │       NULL │              NULL │           NULL │           NULL │               NULL │            NULL │     -0.8 │      0.4 │       NULL │                  NULL │                   NULL │                  NULL │             NULL │            NULL │             NULL │             NULL │            NULL │      NULL │                 NULL │                  NULL │                 NULL │              15300.0 │    13000.0 │   123.0 │    170.0 │            NULL │                     NULL │     NULL │            NULL │        5.1 │              NULL │\n",
      "│ 2001-01-01 15:40:00 │ 06151     │        NULL │         NULL │     87.0 │            NULL │                   NULL │                NULL │                 NULL │              NULL │             NULL │          NULL │    998.7 │           999.1 │       NULL │              NULL │           NULL │           NULL │               NULL │            NULL │     -0.5 │      1.4 │       NULL │                  NULL │                   NULL │                  NULL │             NULL │            NULL │             NULL │             NULL │            NULL │      NULL │                 NULL │                  NULL │                 NULL │                 NULL │       NULL │    NULL │    167.0 │            NULL │                     NULL │     NULL │            NULL │       13.5 │              NULL │\n",
      "│ 2001-01-01 15:00:00 │ 04373     │        NULL │         NULL │     77.0 │            NULL │                   NULL │                NULL │                 NULL │              NULL │             NULL │          NULL │    997.6 │          1007.7 │       NULL │              NULL │           NULL │           NULL │               NULL │            NULL │    -11.2 │     -7.9 │       NULL │                  NULL │                   NULL │                  NULL │             NULL │            NULL │             NULL │             NULL │            NULL │      NULL │                 NULL │                  NULL │                 NULL │                 NULL │       NULL │    NULL │    330.0 │            NULL │                     NULL │     NULL │            NULL │        8.2 │              NULL │\n",
      "│ 2001-01-01 13:50:00 │ 06096     │        90.0 │        250.0 │     93.0 │            NULL │                   NULL │                NULL │                 NULL │              NULL │             NULL │          NULL │    994.0 │           995.2 │       NULL │              NULL │           NULL │           NULL │               NULL │            NULL │     -0.9 │      0.2 │       NULL │                  NULL │                   NULL │                  NULL │             NULL │            NULL │             NULL │             NULL │            NULL │      NULL │                 NULL │                  NULL │                 NULL │              10300.0 │    10000.0 │    NULL │    155.0 │            NULL │                     NULL │     NULL │            NULL │        9.6 │              NULL │\n",
      "│          ·          │   ·       │          ·  │           ·  │       ·  │              ·  │                     ·  │                  ·  │                   ·  │                ·  │               ·  │            ·  │      ·   │             ·   │         ·  │                ·  │             ·  │             ·  │                 ·  │              ·  │       ·  │       ·  │         ·  │                    ·  │                     ·  │                    ·  │               ·  │              ·  │               ·  │               ·  │              ·  │        ·  │                   ·  │                    ·  │                   ·  │                   ·  │         ·  │      ·  │      ·   │              ·  │                       ·  │       ·  │              ·  │         ·  │                ·  │\n",
      "│          ·          │   ·       │          ·  │           ·  │       ·  │              ·  │                     ·  │                  ·  │                   ·  │                ·  │               ·  │            ·  │      ·   │             ·   │         ·  │                ·  │             ·  │             ·  │                 ·  │              ·  │       ·  │       ·  │         ·  │                    ·  │                     ·  │                    ·  │               ·  │              ·  │               ·  │               ·  │              ·  │        ·  │                   ·  │                    ·  │                   ·  │                   ·  │         ·  │      ·  │      ·   │              ·  │                       ·  │       ·  │              ·  │         ·  │                ·  │\n",
      "│          ·          │   ·       │          ·  │           ·  │       ·  │              ·  │                     ·  │                  ·  │                   ·  │                ·  │               ·  │            ·  │      ·   │             ·   │         ·  │                ·  │             ·  │             ·  │                 ·  │              ·  │       ·  │       ·  │         ·  │                    ·  │                     ·  │                    ·  │               ·  │              ·  │               ·  │               ·  │              ·  │        ·  │                   ·  │                    ·  │                   ·  │                   ·  │         ·  │      ·  │      ·   │              ·  │                       ·  │       ·  │              ·  │         ·  │                ·  │\n",
      "│ 2001-04-18 20:50:00 │ 06138     │        NULL │         NULL │     90.0 │            NULL │                   NULL │                NULL │                 NULL │              NULL │             NULL │          NULL │    998.1 │           998.5 │       NULL │              NULL │           NULL │           NULL │               NULL │            NULL │      1.9 │      3.4 │       NULL │                  NULL │                   NULL │                  NULL │             NULL │            NULL │             NULL │             NULL │            NULL │      NULL │                 NULL │                  NULL │                 NULL │                 NULL │       NULL │    NULL │    263.0 │            NULL │                     NULL │     NULL │            NULL │        1.0 │              NULL │\n",
      "│ 2001-04-18 19:00:00 │ 06019     │        NULL │         NULL │     83.0 │            NULL │                   NULL │                 0.0 │                 NULL │               0.0 │             NULL │           0.0 │     NULL │            NULL │       NULL │              17.0 │           NULL │           NULL │               NULL │            NULL │     NULL │      3.0 │        2.5 │                   3.8 │                    3.0 │                   2.5 │             NULL │             3.7 │              3.3 │             NULL │             3.0 │       6.3 │                  6.3 │                   6.3 │                  6.3 │                 NULL │       NULL │    NULL │    246.0 │           252.0 │                      5.3 │     NULL │            NULL │        4.5 │               4.8 │\n",
      "│ 2001-04-18 18:00:00 │ 04301     │        NULL │         NULL │     78.0 │            NULL │                   NULL │                NULL │                 NULL │              NULL │             NULL │          NULL │   1024.1 │          1024.6 │       NULL │              NULL │           NULL │           NULL │               NULL │            NULL │    -28.0 │    -25.3 │       NULL │                  NULL │                   NULL │                  NULL │             NULL │            NULL │             NULL │             NULL │            NULL │      NULL │                 NULL │                  NULL │                 NULL │                 NULL │       NULL │    NULL │    260.0 │            NULL │                     NULL │     NULL │            NULL │        5.7 │              NULL │\n",
      "│ 2001-04-18 17:00:00 │ 06132     │        NULL │         NULL │     74.0 │            NULL │                   NULL │                NULL │                 NULL │              NULL │             NULL │          NULL │     NULL │            NULL │       NULL │              NULL │           NULL │           NULL │               NULL │            NULL │     NULL │      6.0 │       NULL │                  NULL │                   NULL │                  NULL │             NULL │             6.4 │              6.0 │             NULL │             5.8 │      NULL │                 NULL │                  NULL │                 NULL │                 NULL │       NULL │    NULL │     NULL │            NULL │                     NULL │     NULL │            NULL │       NULL │              NULL │\n",
      "│ 2001-04-18 16:40:00 │ 06156     │        90.0 │        450.0 │     89.0 │            NULL │                    0.0 │                NULL │                  0.0 │              NULL │              0.0 │          NULL │    995.7 │           997.3 │       56.0 │              NULL │           NULL │           NULL │                0.0 │            NULL │      1.5 │     NULL │       NULL │                  NULL │                   NULL │                  NULL │             NULL │            NULL │             NULL │             NULL │            NULL │      NULL │                 NULL │                  NULL │                 NULL │              10600.0 │    10000.0 │    52.0 │     86.0 │            NULL │                     NULL │     NULL │            NULL │        1.8 │              NULL │\n",
      "│ 2001-04-18 16:00:00 │ 06074     │        NULL │         NULL │     50.0 │            48.0 │                   NULL │                NULL │                  0.0 │               0.0 │              0.0 │           0.0 │    990.3 │           997.0 │       NULL │              NULL │           NULL │           NULL │               NULL │            NULL │     -3.5 │      6.6 │       NULL │                  NULL │                   NULL │                  NULL │             NULL │             8.0 │              7.2 │             NULL │             6.6 │      NULL │                 NULL │                  NULL │                 NULL │               5000.0 │    50000.0 │    NULL │    344.0 │           352.0 │                      4.2 │     NULL │            NULL │        3.6 │               3.4 │\n",
      "│ 2001-04-18 14:20:00 │ 06052     │        NULL │         NULL │     65.0 │            NULL │                   NULL │                NULL │                  0.0 │              NULL │              0.0 │          NULL │    998.1 │           998.6 │       NULL │              NULL │           NULL │           NULL │               NULL │            NULL │     -1.1 │      5.8 │       NULL │                  NULL │                   NULL │                  NULL │             NULL │            NULL │             NULL │             NULL │            NULL │      NULL │                 NULL │                  NULL │                 NULL │              17700.0 │    17000.0 │    NULL │    284.0 │            NULL │                     NULL │     NULL │            NULL │        4.7 │              NULL │\n",
      "│ 2001-04-18 14:20:00 │ 06041     │        60.0 │        450.0 │     84.0 │            NULL │                   NULL │                NULL │                  0.0 │              NULL │              0.0 │          NULL │    994.2 │           994.8 │      226.0 │              NULL │           NULL │           NULL │                0.0 │            NULL │      1.2 │      3.6 │       NULL │                  NULL │                   NULL │                  NULL │             NULL │            NULL │             NULL │             NULL │            NULL │      NULL │                 NULL │                  NULL │                 NULL │              33000.0 │    30000.0 │    NULL │    287.0 │            NULL │                     NULL │     NULL │            NULL │        9.1 │              NULL │\n",
      "│ 2001-04-18 12:00:00 │ 04213     │        NULL │         NULL │     83.0 │            NULL │                   NULL │                NULL │                 NULL │              NULL │             NULL │          NULL │    999.0 │          1010.1 │       NULL │              NULL │           NULL │           NULL │               NULL │            NULL │     -5.2 │     -2.7 │       NULL │                  NULL │                   NULL │                  NULL │             NULL │            NULL │             NULL │             NULL │            NULL │      NULL │                 NULL │                  NULL │                 NULL │                 NULL │       NULL │    NULL │    330.0 │            NULL │                     NULL │     NULL │            NULL │        0.5 │              NULL │\n",
      "│ 2001-04-18 12:00:00 │ 04254     │        NULL │         NULL │     86.0 │            NULL │                   NULL │                NULL │                 NULL │              NULL │             NULL │          NULL │    992.2 │          1002.6 │       NULL │              NULL │           NULL │           NULL │               NULL │            NULL │      2.5 │      4.6 │       NULL │                  NULL │                   NULL │                  NULL │             NULL │            NULL │             NULL │             NULL │            NULL │      NULL │                 NULL │                  NULL │                 NULL │                 NULL │       NULL │    NULL │     40.0 │            NULL │                     NULL │     NULL │            NULL │        4.1 │              NULL │\n",
      "├─────────────────────┴───────────┴─────────────┴──────────────┴──────────┴─────────────────┴────────────────────────┴─────────────────────┴──────────────────────┴───────────────────┴──────────────────┴───────────────┴──────────┴─────────────────┴────────────┴───────────────────┴────────────────┴────────────────┴────────────────────┴─────────────────┴──────────┴──────────┴────────────┴───────────────────────┴────────────────────────┴───────────────────────┴──────────────────┴─────────────────┴──────────────────┴──────────────────┴─────────────────┴───────────┴──────────────────────┴───────────────────────┴──────────────────────┴──────────────────────┴────────────┴─────────┴──────────┴─────────────────┴──────────────────────────┴──────────┴─────────────────┴────────────┴───────────────────┤\n",
      "│ ? rows (>9999 rows, 20 shown)                                                                                                                                                                                                                                                                                                                                                                                                                                                                                                                                                                                                                                                                                                                                                                                     45 columns │\n",
      "└──────────────────────────────────────────────────────────────────────────────────────────────────────────────────────────────────────────────────────────────────────────────────────────────────────────────────────────────────────────────────────────────────────────────────────────────────────────────────────────────────────────────────────────────────────────────────────────────────────────────────────────────────────────────────────────────────────────────────────────────────────────────────────────────────────────────────────────────────────────────────────────────────────────────────────────────────────────────────────────────────────────────────────────────────────────────────────────────────────────────────────────────────────────────────────────────────────────────────────────────┘\n",
      "\n"
     ]
    }
   ],
   "source": [
    "%%time\n",
    "obs_2001_long = duckdb.sql(\"\"\"\n",
    "    FROM read_json('./raw_text/2001*.txt') select type, id, unnest(geometry),  unnest(properties)\n",
    "\"\"\")\n",
    "duckdb.sql(\"\"\"\n",
    "    copy ( SELECT * FROM obs_2001_long )\n",
    "    to 'metobs_2001_long.parquet' (FORMAT PARQUET, CODEC 'SNAPPY', ROW_GROUP_SIZE 100000);\n",
    "\"\"\")\n",
    "obs_2001_long_ = duckdb.sql(\"\"\"\n",
    "    SELECT observed, stationId, parameterId,  value from obs_2001_long -- limit 1000\n",
    "\"\"\")\n",
    "obs_2001_wide = duckdb.sql(\"\"\"\n",
    "    PIVOT obs_2001_long_ \n",
    "    ON (parameterId)\n",
    "    USING first(value)\n",
    "\"\"\")\n",
    "\n",
    "obs_2001_wide.show()"
   ]
  },
  {
   "cell_type": "markdown",
   "metadata": {},
   "source": [
    "Alle operationer fra alle år, i en celle.\n",
    "ok, i mappen `raw_text/` er der kun filer for årene 1965 og 2001. \n",
    "Men pricippet, og for det ikke skal tager for lang tid i test..."
   ]
  },
  {
   "cell_type": "code",
   "execution_count": 51,
   "metadata": {},
   "outputs": [
    {
     "name": "stdout",
     "output_type": "stream",
     "text": [
      "┌─────────────────────┬───────────┬─────────────┬──────────────┬──────────┬─────────────────┬────────────────────────┬─────────────────────┬──────────────────────┬───────────────────┬──────────────────┬───────────────┬──────────┬─────────────────┬────────────┬───────────────────┬────────────────┬────────────────┬────────────────────┬─────────────────┬──────────┬──────────┬────────────┬───────────────────────┬────────────────────────┬───────────────────────┬──────────────────┬─────────────────┬──────────────────┬──────────────────┬─────────────────┬───────────┬──────────────────────┬───────────────────────┬──────────────────────┬──────────────────────┬────────────┬─────────┬──────────┬─────────────────┬──────────────────────────┬──────────┬─────────────────┬────────────┬───────────────────┐\n",
      "│      observed       │ stationId │ cloud_cover │ cloud_height │ humidity │ humidity_past1h │ leav_hum_dur_past10min │ leav_hum_dur_past1h │ precip_dur_past10min │ precip_dur_past1h │ precip_past10min │ precip_past1h │ pressure │ pressure_at_sea │ radia_glob │ radia_glob_past1h │ snow_cover_man │ snow_depth_man │ sun_last10min_glob │ sun_last1h_glob │ temp_dew │ temp_dry │ temp_grass │ temp_grass_max_past1h │ temp_grass_mean_past1h │ temp_grass_min_past1h │ temp_max_past12h │ temp_max_past1h │ temp_mean_past1h │ temp_min_past12h │ temp_min_past1h │ temp_soil │ temp_soil_max_past1h │ temp_soil_mean_past1h │ temp_soil_min_past1h │ visib_mean_last10min │ visibility │ weather │ wind_dir │ wind_dir_past1h │ wind_max_per10min_past1h │ wind_min │ wind_min_past1h │ wind_speed │ wind_speed_past1h │\n",
      "│      timestamp      │  varchar  │   double    │    double    │  double  │     double      │         double         │       double        │        double        │      double       │      double      │    double     │  double  │     double      │   double   │      double       │     double     │     double     │       double       │     double      │  double  │  double  │   double   │        double         │         double         │        double         │      double      │     double      │      double      │      double      │     double      │  double   │        double        │        double         │        double        │        double        │   double   │ double  │  double  │     double      │          double          │  double  │     double      │   double   │      double       │\n",
      "├─────────────────────┼───────────┼─────────────┼──────────────┼──────────┼─────────────────┼────────────────────────┼─────────────────────┼──────────────────────┼───────────────────┼──────────────────┼───────────────┼──────────┼─────────────────┼────────────┼───────────────────┼────────────────┼────────────────┼────────────────────┼─────────────────┼──────────┼──────────┼────────────┼───────────────────────┼────────────────────────┼───────────────────────┼──────────────────┼─────────────────┼──────────────────┼──────────────────┼─────────────────┼───────────┼──────────────────────┼───────────────────────┼──────────────────────┼──────────────────────┼────────────┼─────────┼──────────┼─────────────────┼──────────────────────────┼──────────┼─────────────────┼────────────┼───────────────────┤\n",
      "│ 1965-01-01 15:00:00 │ 06009     │        75.0 │       1750.0 │     80.0 │            NULL │                   NULL │                NULL │                 NULL │              NULL │             NULL │          NULL │     NULL │            NULL │       NULL │              NULL │           NULL │           NULL │               NULL │            NULL │     -1.2 │      1.8 │       NULL │                  NULL │                   NULL │                  NULL │             NULL │            NULL │             NULL │             NULL │            NULL │      NULL │                 NULL │                  NULL │                 NULL │                 NULL │    15000.0 │     2.0 │    360.0 │            NULL │                     NULL │     NULL │            NULL │        8.2 │              NULL │\n",
      "│ 1965-01-01 03:00:00 │ 06009     │        40.0 │       1250.0 │     92.0 │            NULL │                   NULL │                NULL │                 NULL │              NULL │             NULL │          NULL │     NULL │            NULL │       NULL │              NULL │           NULL │           NULL │               NULL │            NULL │      1.8 │      3.0 │       NULL │                  NULL │                   NULL │                  NULL │             NULL │            NULL │             NULL │             NULL │            NULL │      NULL │                 NULL │                  NULL │                 NULL │                 NULL │    10000.0 │     2.0 │    360.0 │            NULL │                     NULL │     NULL │            NULL │        7.2 │              NULL │\n",
      "│ 1965-01-03 03:00:00 │ 06169     │         0.0 │       2600.0 │     89.0 │            NULL │                   NULL │                NULL │                 NULL │              NULL │             NULL │          NULL │     NULL │          1001.4 │       NULL │              NULL │           NULL │           NULL │               NULL │            NULL │     -1.5 │      0.1 │       NULL │                  NULL │                   NULL │                  NULL │             NULL │            NULL │             NULL │             NULL │            NULL │      NULL │                 NULL │                  NULL │                 NULL │                 NULL │    10000.0 │     1.0 │    220.0 │            NULL │                     NULL │     NULL │            NULL │        3.1 │              NULL │\n",
      "│ 1965-01-05 21:00:00 │ 04320     │         0.0 │       2600.0 │     65.0 │            NULL │                   NULL │                NULL │                 NULL │              NULL │             NULL │          NULL │     NULL │          1031.3 │       NULL │              NULL │           NULL │           NULL │               NULL │            NULL │    -36.1 │    -31.8 │       NULL │                  NULL │                   NULL │                  NULL │             NULL │            NULL │             NULL │             NULL │            NULL │      NULL │                 NULL │                  NULL │                 NULL │                 NULL │    75000.0 │     2.0 │    340.0 │            NULL │                     NULL │     NULL │            NULL │        1.5 │              NULL │\n",
      "│ 1965-01-05 03:00:00 │ 06183     │       100.0 │        800.0 │     NULL │            NULL │                   NULL │                NULL │                 NULL │              NULL │             NULL │          NULL │     NULL │            NULL │       NULL │              NULL │           NULL │           NULL │               NULL │            NULL │     NULL │      4.7 │       NULL │                  NULL │                   NULL │                  NULL │             NULL │            NULL │             NULL │             NULL │            NULL │      NULL │                 NULL │                  NULL │                 NULL │                 NULL │    22000.0 │     2.0 │    270.0 │            NULL │                     NULL │     NULL │            NULL │       19.0 │              NULL │\n",
      "│ 1965-01-06 21:00:00 │ 04260     │       112.0 │         NULL │     85.0 │            NULL │                   NULL │                NULL │                 NULL │              NULL │             NULL │          NULL │     NULL │           999.2 │       NULL │              NULL │           NULL │           NULL │               NULL │            NULL │    -10.3 │     -8.2 │       NULL │                  NULL │                   NULL │                  NULL │             NULL │            NULL │             NULL │             NULL │            NULL │      NULL │                 NULL │                  NULL │                 NULL │                 NULL │     1000.0 │    75.0 │    280.0 │            NULL │                     NULL │     NULL │            NULL │       10.3 │              NULL │\n",
      "│ 1965-01-07 21:00:00 │ 04250     │        40.0 │        250.0 │     78.0 │            NULL │                   NULL │                NULL │                 NULL │              NULL │             NULL │          NULL │     NULL │          1019.4 │       NULL │              NULL │           NULL │           NULL │               NULL │            NULL │    -16.4 │    -13.4 │       NULL │                  NULL │                   NULL │                  NULL │             NULL │            NULL │             NULL │             NULL │            NULL │      NULL │                 NULL │                  NULL │                 NULL │                 NULL │    30000.0 │     2.0 │    360.0 │            NULL │                     NULL │     NULL │            NULL │        8.7 │              NULL │\n",
      "│ 1965-01-07 21:00:00 │ 06009     │        75.0 │        800.0 │     95.0 │            NULL │                   NULL │                NULL │                 NULL │              NULL │             NULL │          NULL │     NULL │            NULL │       NULL │              NULL │           NULL │           NULL │               NULL │            NULL │      6.8 │      7.6 │       NULL │                  NULL │                   NULL │                  NULL │             NULL │            NULL │             NULL │             NULL │            NULL │      NULL │                 NULL │                  NULL │                 NULL │                 NULL │     6000.0 │    80.0 │    230.0 │            NULL │                     NULL │     NULL │            NULL │       13.9 │              NULL │\n",
      "│ 1965-01-07 06:00:00 │ 06169     │       112.0 │         NULL │     77.0 │            NULL │                   NULL │                NULL │                 NULL │              NULL │             NULL │          NULL │     NULL │          1021.0 │       NULL │              NULL │           NULL │           NULL │               NULL │            NULL │     -3.5 │      0.0 │       NULL │                  NULL │                   NULL │                  NULL │              0.8 │            NULL │             NULL │              0.0 │            NULL │      NULL │                 NULL │                  NULL │                 NULL │                 NULL │    10000.0 │     0.0 │    140.0 │            NULL │                     NULL │     NULL │            NULL │        7.2 │              NULL │\n",
      "│ 1965-01-10 18:00:00 │ 04220     │        90.0 │       2600.0 │     76.0 │            NULL │                   NULL │                NULL │                 NULL │              NULL │             NULL │          NULL │     NULL │           983.3 │       NULL │              NULL │           NULL │           NULL │               NULL │            NULL │     -7.3 │     -3.7 │       NULL │                  NULL │                   NULL │                  NULL │             -2.6 │            NULL │             NULL │            -14.0 │            NULL │      NULL │                 NULL │                  NULL │                 NULL │                 NULL │    55000.0 │     2.0 │     70.0 │            NULL │                     NULL │     NULL │            NULL │        4.6 │              NULL │\n",
      "│          ·          │   ·       │          ·  │          ·   │       ·  │              ·  │                     ·  │                  ·  │                   ·  │                ·  │               ·  │            ·  │       ·  │             ·   │         ·  │                ·  │             ·  │             ·  │                 ·  │              ·  │       ·  │       ·  │         ·  │                    ·  │                     ·  │                    ·  │               ·  │              ·  │               ·  │               ·  │              ·  │        ·  │                   ·  │                    ·  │                   ·  │                   ·  │       ·    │      ·  │       ·  │              ·  │                       ·  │       ·  │              ·  │         ·  │                ·  │\n",
      "│          ·          │   ·       │          ·  │          ·   │       ·  │              ·  │                     ·  │                  ·  │                   ·  │                ·  │               ·  │            ·  │       ·  │             ·   │         ·  │                ·  │             ·  │             ·  │                 ·  │              ·  │       ·  │       ·  │         ·  │                    ·  │                     ·  │                    ·  │               ·  │              ·  │               ·  │               ·  │              ·  │        ·  │                   ·  │                    ·  │                   ·  │                   ·  │       ·    │      ·  │       ·  │              ·  │                       ·  │       ·  │              ·  │         ·  │                ·  │\n",
      "│          ·          │   ·       │          ·  │          ·   │       ·  │              ·  │                     ·  │                  ·  │                   ·  │                ·  │               ·  │            ·  │       ·  │             ·   │         ·  │                ·  │             ·  │             ·  │                 ·  │              ·  │       ·  │       ·  │         ·  │                    ·  │                     ·  │                    ·  │               ·  │              ·  │               ·  │               ·  │              ·  │        ·  │                   ·  │                    ·  │                   ·  │                   ·  │       ·    │      ·  │       ·  │              ·  │                       ·  │       ·  │              ·  │         ·  │                ·  │\n",
      "│ 2001-07-02 15:00:00 │ 06041     │        10.0 │       2600.0 │     59.0 │            58.0 │                   NULL │                NULL │                  0.0 │               0.0 │              0.0 │           0.0 │   1023.1 │          1023.7 │      640.0 │             685.0 │           NULL │           NULL │               10.0 │            60.0 │     10.4 │     18.5 │       NULL │                  NULL │                   NULL │                  NULL │             NULL │            19.3 │             18.7 │             NULL │            18.3 │      NULL │                 NULL │                  NULL │                 NULL │              37900.0 │    35000.0 │    NULL │    278.0 │           281.0 │                      6.4 │     NULL │            NULL │        5.6 │               5.5 │\n",
      "│ 2001-07-02 14:50:00 │ 06073     │        NULL │         NULL │     69.0 │            NULL │                   NULL │                NULL │                 NULL │              NULL │             NULL │          NULL │   1023.5 │          1024.2 │       NULL │              NULL │           NULL │           NULL │               NULL │            NULL │     14.2 │     20.1 │       NULL │                  NULL │                   NULL │                  NULL │             NULL │            NULL │             NULL │             NULL │            NULL │      NULL │                 NULL │                  NULL │                 NULL │                 NULL │       NULL │    NULL │    295.0 │            NULL │                     NULL │     NULL │            NULL │        4.5 │              NULL │\n",
      "│ 2001-07-02 14:00:00 │ 06041     │         0.0 │       2600.0 │     54.0 │            55.0 │                   NULL │                NULL │                  0.0 │               0.0 │              0.0 │           0.0 │   1023.0 │          1023.6 │      742.0 │             773.0 │           NULL │           NULL │               10.0 │            60.0 │      9.3 │     18.8 │       NULL │                  NULL │                   NULL │                  NULL │             NULL │            19.3 │             18.9 │             NULL │            18.3 │      NULL │                 NULL │                  NULL │                 NULL │              35700.0 │    35000.0 │    NULL │    273.0 │           280.0 │                      6.1 │     NULL │            NULL │        4.9 │               5.2 │\n",
      "│ 2001-07-02 14:00:00 │ 06088     │        NULL │         NULL │     68.0 │            NULL │                   NULL │                NULL │                 NULL │              NULL │             NULL │          NULL │     NULL │            NULL │       NULL │              NULL │           NULL │           NULL │               NULL │            NULL │     NULL │     20.2 │       NULL │                  NULL │                   NULL │                  NULL │             NULL │            20.8 │             20.3 │             NULL │            19.8 │      NULL │                 NULL │                  NULL │                 NULL │                 NULL │       NULL │    NULL │     NULL │            NULL │                     NULL │     NULL │            NULL │       NULL │              NULL │\n",
      "│ 2001-07-02 13:20:00 │ 06081     │        NULL │         NULL │     73.0 │            NULL │                   NULL │                NULL │                 NULL │              NULL │              0.0 │          NULL │   1024.8 │          1026.9 │       NULL │              NULL │           NULL │           NULL │               NULL │            NULL │     12.9 │     17.7 │       NULL │                  NULL │                   NULL │                  NULL │             NULL │            NULL │             NULL │             NULL │            NULL │      NULL │                 NULL │                  NULL │                 NULL │                 NULL │       NULL │    NULL │    285.0 │            NULL │                     NULL │     NULL │            NULL │        6.4 │              NULL │\n",
      "│ 2001-07-02 13:00:00 │ 04220     │        90.0 │         80.0 │     90.0 │            NULL │                   NULL │                NULL │                 NULL │              NULL │             NULL │          NULL │   1006.3 │          1011.4 │       NULL │              NULL │           NULL │           NULL │               NULL │            NULL │      0.9 │      2.4 │       NULL │                  NULL │                   NULL │                  NULL │             NULL │            NULL │             NULL │             NULL │            NULL │      NULL │                 NULL │                  NULL │                 NULL │                 NULL │    25000.0 │    NULL │    220.0 │            NULL │                     NULL │     NULL │            NULL │        2.6 │              NULL │\n",
      "│ 2001-07-02 13:00:00 │ 04221     │        NULL │         NULL │     88.0 │            NULL │                   NULL │                NULL │                 NULL │              NULL │             NULL │          NULL │   1006.9 │          1011.0 │       NULL │              NULL │           NULL │           NULL │               NULL │            NULL │      3.6 │      5.4 │       NULL │                  NULL │                   NULL │                  NULL │             NULL │            NULL │             NULL │             NULL │            NULL │      NULL │                 NULL │                  NULL │                 NULL │                 NULL │    12000.0 │    NULL │    260.0 │            NULL │                     NULL │     NULL │            NULL │        3.1 │              NULL │\n",
      "│ 2001-07-02 09:00:00 │ 06168     │        NULL │         NULL │     74.0 │            76.0 │                   NULL │                NULL │                 NULL │              NULL │             NULL │          NULL │   1018.1 │          1023.3 │       NULL │              NULL │           NULL │           NULL │               NULL │            NULL │     12.7 │     17.4 │       NULL │                  NULL │                   NULL │                  NULL │             NULL │            17.8 │             17.1 │             NULL │            16.0 │      NULL │                 NULL │                  NULL │                 NULL │                 NULL │       NULL │    NULL │    304.0 │           305.0 │                      9.2 │     NULL │            NULL │        8.6 │               8.4 │\n",
      "│ 2001-07-02 08:00:00 │ 06081     │        NULL │         NULL │     75.0 │            75.0 │                   NULL │                NULL │                 NULL │              NULL │              0.0 │           0.0 │   1024.4 │          1026.6 │       NULL │              NULL │           NULL │           NULL │               NULL │            NULL │     10.5 │     14.8 │       NULL │                  NULL │                   NULL │                  NULL │             NULL │            15.9 │             14.9 │             NULL │            10.2 │      NULL │                 NULL │                  NULL │                 NULL │                 NULL │       NULL │    NULL │    308.0 │           310.0 │                      8.6 │     NULL │            NULL │        7.8 │               7.2 │\n",
      "│ 2001-07-02 04:00:00 │ 04213     │        NULL │         NULL │     97.0 │            NULL │                   NULL │                NULL │                 NULL │              NULL │             NULL │          NULL │    996.9 │          1007.8 │       NULL │              NULL │           NULL │           NULL │               NULL │            NULL │      2.4 │      2.9 │       NULL │                  NULL │                   NULL │                  NULL │             NULL │            NULL │             NULL │             NULL │            NULL │      NULL │                 NULL │                  NULL │                 NULL │                 NULL │       NULL │    NULL │    270.0 │            NULL │                     NULL │     NULL │            NULL │        0.5 │              NULL │\n",
      "├─────────────────────┴───────────┴─────────────┴──────────────┴──────────┴─────────────────┴────────────────────────┴─────────────────────┴──────────────────────┴───────────────────┴──────────────────┴───────────────┴──────────┴─────────────────┴────────────┴───────────────────┴────────────────┴────────────────┴────────────────────┴─────────────────┴──────────┴──────────┴────────────┴───────────────────────┴────────────────────────┴───────────────────────┴──────────────────┴─────────────────┴──────────────────┴──────────────────┴─────────────────┴───────────┴──────────────────────┴───────────────────────┴──────────────────────┴──────────────────────┴────────────┴─────────┴──────────┴─────────────────┴──────────────────────────┴──────────┴─────────────────┴────────────┴───────────────────┤\n",
      "│ ? rows (>9999 rows, 20 shown)                                                                                                                                                                                                                                                                                                                                                                                                                                                                                                                                                                                                                                                                                                                                                                                     45 columns │\n",
      "└──────────────────────────────────────────────────────────────────────────────────────────────────────────────────────────────────────────────────────────────────────────────────────────────────────────────────────────────────────────────────────────────────────────────────────────────────────────────────────────────────────────────────────────────────────────────────────────────────────────────────────────────────────────────────────────────────────────────────────────────────────────────────────────────────────────────────────────────────────────────────────────────────────────────────────────────────────────────────────────────────────────────────────────────────────────────────────────────────────────────────────────────────────────────────────────────────────────────────────────────┘\n",
      "\n",
      "CPU times: total: 52.6 s\n",
      "Wall time: 56.8 s\n"
     ]
    }
   ],
   "source": [
    "%%time\n",
    "obs_long = duckdb.sql(\"\"\"\n",
    "    FROM read_json('./raw_text/*.txt') select type, id, unnest(geometry),  unnest(properties)\n",
    "\"\"\")\n",
    "duckdb.sql(\"\"\"\n",
    "    copy ( SELECT * FROM obs_long )\n",
    "    to 'metobs_long.parquet' (FORMAT PARQUET, CODEC 'SNAPPY', ROW_GROUP_SIZE 100000);\n",
    "\"\"\")\n",
    "obs_long_ = duckdb.sql(\"\"\"\n",
    "    SELECT observed, stationId, parameterId,  value from obs_long -- limit 1000\n",
    "\"\"\")\n",
    "obs_wide = duckdb.sql(\"\"\"\n",
    "    PIVOT obs_long_ \n",
    "    ON (parameterId)\n",
    "    USING first(value)\n",
    "\"\"\")\n",
    "\n",
    "obs_wide.show()"
   ]
  },
  {
   "cell_type": "markdown",
   "metadata": {},
   "source": [
    "Ok.\n",
    "\n",
    "Nu prøver at lave en udgave hvor jeg ændrer stien til at passe til mappen med alle data, 1954 til nu (18. oktober 2024).   \n",
    "Måske går det godt?!"
   ]
  },
  {
   "cell_type": "code",
   "execution_count": 54,
   "metadata": {},
   "outputs": [
    {
     "name": "stdout",
     "output_type": "stream",
     "text": [
      "indlæser filer ...  done\n",
      "udvælger nødvendige felter før pivot ...  done\n",
      "pivot ... "
     ]
    },
    {
     "ename": "RuntimeError",
     "evalue": "Query interrupted",
     "output_type": "error",
     "traceback": [
      "\u001b[1;31m---------------------------------------------------------------------------\u001b[0m",
      "\u001b[1;31mKeyboardInterrupt\u001b[0m                         Traceback (most recent call last)",
      "\u001b[1;31mKeyboardInterrupt\u001b[0m: ",
      "\nThe above exception was the direct cause of the following exception:\n",
      "\u001b[1;31mRuntimeError\u001b[0m                              Traceback (most recent call last)",
      "File \u001b[1;32m<timed exec>:21\u001b[0m\n",
      "\u001b[1;31mRuntimeError\u001b[0m: Query interrupted"
     ]
    }
   ],
   "source": [
    "%%time\n",
    "print(\"indlæser filer ... \", end=\"\")\n",
    "obs_long = duckdb.sql(\"\"\"\n",
    "    FROM read_json('d:/downloads/dmi_all_1953-2024.sept/*.txt') select type, id, unnest(geometry),  unnest(properties)\n",
    "\"\"\")\n",
    "print(\" done\")\n",
    "\n",
    "# print(\"kopierer til parquet filer ... \", end=\"\")\n",
    "# duckdb.sql(\"\"\"\n",
    "#     copy ( SELECT * FROM obs_long )\n",
    "#     to 'metobs_long.parquet' (FORMAT PARQUET, CODEC 'SNAPPY', ROW_GROUP_SIZE 100000);\n",
    "# \"\"\")\n",
    "# print(\" done\")\n",
    "\n",
    "print(\"udvælger nødvendige felter før pivot ... \", end=\"\")\n",
    "obs_long_ = duckdb.sql(\"\"\"\n",
    "    SELECT observed, stationId, parameterId,  value from obs_long -- limit 1000\n",
    "\"\"\")\n",
    "print(\" done\")\n",
    "\n",
    "print(\"pivot ... \", end=\"\")\n",
    "obs_wide = duckdb.sql(\"\"\"\n",
    "    PIVOT obs_long_ \n",
    "    ON (parameterId)\n",
    "    USING first(value)\n",
    "\"\"\")\n",
    "print(\" done\")\n",
    "\n",
    "print(\"kopierer wide-form til parquet filer ... \", end=\"\")\n",
    "duckdb.sql(\"\"\"\n",
    "    copy ( SELECT * FROM obs_wide )\n",
    "    to 'metobs_wide.parquet' (FORMAT PARQUET, CODEC 'SNAPPY', ROW_GROUP_SIZE 100000);\n",
    "\"\"\")\n",
    "print(\" done\")\n",
    "\n",
    "# obs_wide.show()"
   ]
  },
  {
   "cell_type": "markdown",
   "metadata": {},
   "source": [
    "Det gik så __ikke__ så godt, fordi det tof for evigt...\n",
    "\n",
    "Ny strategi: Et år ad gangen!"
   ]
  },
  {
   "cell_type": "code",
   "execution_count": 2,
   "metadata": {},
   "outputs": [
    {
     "name": "stdout",
     "output_type": "stream",
     "text": [
      "\n",
      "process 2023\n",
      "\n",
      "indlæser 2023-filer ... CPU times: total: 156 ms\n",
      "Wall time: 577 ms\n",
      " done\n",
      "kopierer 2023 til parquet filer ... CPU times: total: 1min 56s\n",
      "Wall time: 3min 8s\n",
      " done\n",
      "Genindlæser 2023, fra parquet fil (på SSD)\n",
      "CPU times: total: 0 ns\n",
      "Wall time: 29.5 ms\n",
      "udvælger nødvendige felter før pivot ...  done\n",
      "pivot ...  done\n",
      "kopierer 2023 wide-form til parquet filer ... CPU times: total: 1min 4s\n",
      "Wall time: 51.5 s\n",
      " done 2023\n",
      "\n",
      "process 2024\n",
      "\n",
      "indlæser 2024-filer ... CPU times: total: 188 ms\n",
      "Wall time: 6.56 s\n",
      " done\n",
      "kopierer 2024 til parquet filer ... CPU times: total: 1min 13s\n",
      "Wall time: 1min 57s\n",
      " done\n",
      "Genindlæser 2024, fra parquet fil (på SSD)\n",
      "CPU times: total: 15.6 ms\n",
      "Wall time: 16.4 ms\n",
      "udvælger nødvendige felter før pivot ...  done\n",
      "pivot ...  done\n",
      "kopierer 2024 wide-form til parquet filer ... CPU times: total: 34.2 s\n",
      "Wall time: 25.9 s\n",
      " done 2024\n",
      "done all range(2023, 2025)\n",
      "CPU times: total: 4min 54s\n",
      "Wall time: 6min 32s\n"
     ]
    }
   ],
   "source": [
    "%%time\n",
    "import duckdb\n",
    "\n",
    "raw_file_path = 'd:/downloads/dmi_all_1953-2024.sept/'\n",
    "out_file_path = './metobs_data/'\n",
    "\n",
    "# years = [1965, 2001, 2023]\n",
    "# years = [ 2001, 1965]\n",
    "# years = range(1954, 2025)\n",
    "years = range(2023, 2025)\n",
    "\n",
    "for year_to_process in years:\n",
    "    print()\n",
    "    print(f\"process {year_to_process}\")\n",
    "    print()\n",
    "\n",
    "    print(f\"indlæser {year_to_process}-filer ... \", end=\"\")\n",
    "    # %time obs_long = duckdb.sql(f\"\"\"FROM read_json('d:/downloads/dmi_all_1953-2024.sept/{year_to_process}*.txt') select type, id, unnest(geometry),  unnest(properties)\"\"\")\n",
    "\n",
    "    import_path = f\"d:/downloads/dmi_all_1953-2024.sept/{year_to_process}*.txt\"\n",
    "    sql = \"select type, id, unnest(geometry),  unnest(properties) FROM obs\"\n",
    "    %time (obs := duckdb.read_json(import_path, convert_strings_to_integers = True)) ; (obs_long := duckdb.sql(sql))\n",
    "    print(\" done\")\n",
    "\n",
    "    print(f\"kopierer {year_to_process} til parquet filer ... \", end=\"\")\n",
    "    # sql = f\"\"\"\n",
    "    #     copy ( SELECT * FROM obs_long )\n",
    "    #     to '{out_file_path}metobs_{year_to_process}_long.parquet' (FORMAT PARQUET, CODEC 'SNAPPY', ROW_GROUP_SIZE 100000);\n",
    "    # \"\"\"\n",
    "    # %time duckdb.sql(sql)\n",
    "    %time obs_long.write_parquet(f\"{out_file_path}metobs_{year_to_process}_long.parquet\", compression = 'SNAPPY', row_group_size = 100000)\n",
    "    print(\" done\")\n",
    "\n",
    "    print(f\"Genindlæser {year_to_process}, fra parquet fil (på SSD)\")\n",
    "    %time obs_long = duckdb.read_parquet(f\"{out_file_path}metobs_{year_to_process}_long.parquet\")\n",
    "\n",
    "    print(\"udvælger nødvendige felter før pivot ... \", end=\"\")\n",
    "    sql = \"\"\"\n",
    "        SELECT observed, cast(stationId AS INTEGER) as stationId, parameterId,  value from obs_long -- limit 1000\n",
    "    \"\"\"\n",
    "    obs_long_ = duckdb.sql(sql)\n",
    "    print(\" done\")\n",
    "\n",
    "    print(\"pivot ... \", end=\"\")\n",
    "    sql = \"\"\"\n",
    "        PIVOT obs_long_ \n",
    "        ON (parameterId)\n",
    "        USING first(value)\n",
    "    \"\"\"\n",
    "    obs_wide = duckdb.sql(sql)\n",
    "    print(\" done\")\n",
    "\n",
    "    print(f\"kopierer {year_to_process} wide-form til parquet filer ... \", end=\"\")\n",
    "    # sql = f\"\"\"\n",
    "    #     copy ( SELECT * FROM obs_wide )\n",
    "    #     to 'metobs_{year_to_process}_wide.parquet' (FORMAT PARQUET, CODEC 'SNAPPY', ROW_GROUP_SIZE 100000);\n",
    "    # \"\"\"\n",
    "    # %time duckdb.sql(sql)\n",
    "    %time obs_wide.write_parquet(f\"{out_file_path}metobs_{year_to_process}_wide.parquet\", compression = 'SNAPPY', row_group_size = 100000)\n",
    "    print(f\" done {year_to_process}\")\n",
    "\n",
    "print(f\"done all {years}\")\n",
    "# obs_wide.show()"
   ]
  },
  {
   "cell_type": "code",
   "execution_count": 3,
   "metadata": {},
   "outputs": [
    {
     "name": "stdout",
     "output_type": "stream",
     "text": [
      "┌─────────────────────┬───────────┬──────────┬─────────────────┬──────────┬──────────┬────────────┐\n",
      "│      observed       │ stationId │ humidity │ pressure_at_sea │ temp_dew │ temp_dry │ wind_speed │\n",
      "│      timestamp      │   int32   │  double  │     double      │  double  │  double  │   double   │\n",
      "├─────────────────────┼───────────┼──────────┼─────────────────┼──────────┼──────────┼────────────┤\n",
      "│ 1954-01-01 00:00:00 │      6180 │    100.0 │          1029.0 │     -2.0 │     -2.0 │        1.0 │\n",
      "│ 1954-01-01 00:00:00 │      6110 │    100.0 │          1027.3 │      0.0 │      0.0 │        2.6 │\n",
      "│ 1954-01-01 00:00:00 │      6081 │     93.0 │          1027.5 │      0.0 │      1.0 │        1.0 │\n",
      "│ 1954-01-01 00:00:00 │      6071 │     93.0 │          1027.7 │      0.0 │      1.0 │        1.0 │\n",
      "│ 1954-01-01 00:00:00 │      6060 │    100.0 │          1028.0 │     -2.0 │     -2.0 │        0.0 │\n",
      "│ 1954-01-01 00:00:00 │      6041 │     86.0 │          1027.2 │     -2.0 │      0.0 │        1.0 │\n",
      "│ 1954-01-01 00:00:00 │      6030 │    100.0 │          1028.2 │     -1.0 │     -1.0 │        1.0 │\n",
      "│ 1954-01-01 00:00:00 │      6011 │     93.0 │          1019.5 │      8.0 │      9.0 │       13.4 │\n",
      "│ 1954-01-01 03:00:00 │      6180 │    100.0 │          1029.6 │     -2.0 │     -2.0 │        0.0 │\n",
      "│ 1954-01-01 03:00:00 │      6081 │     93.0 │          1028.5 │     -1.0 │      0.0 │        0.0 │\n",
      "│          ·          │        ·  │       ·  │             ·   │       ·  │       ·  │         ·  │\n",
      "│          ·          │        ·  │       ·  │             ·   │       ·  │       ·  │         ·  │\n",
      "│          ·          │        ·  │       ·  │             ·   │       ·  │       ·  │         ·  │\n",
      "│ 1954-06-07 09:00:00 │      6041 │     NULL │          1005.9 │     NULL │     16.0 │        6.7 │\n",
      "│ 1954-06-07 09:00:00 │      6030 │     68.0 │          1005.7 │     14.0 │     20.0 │        4.1 │\n",
      "│ 1954-06-07 09:00:00 │      6011 │     81.0 │          1013.2 │      4.0 │      7.0 │        8.2 │\n",
      "│ 1954-06-07 12:00:00 │      6180 │     68.0 │          1007.0 │     11.0 │     17.0 │        6.2 │\n",
      "│ 1954-06-07 12:00:00 │      6110 │     88.0 │          1007.2 │     12.0 │     14.0 │        4.1 │\n",
      "│ 1954-06-07 12:00:00 │      6081 │     82.0 │          1007.2 │     11.0 │     14.0 │        1.0 │\n",
      "│ 1954-06-07 12:00:00 │      6071 │     82.0 │          1007.2 │     13.0 │     16.0 │        4.6 │\n",
      "│ 1954-06-07 12:00:00 │      6060 │     82.0 │          1006.7 │     14.0 │     17.0 │        3.1 │\n",
      "│ 1954-06-07 12:00:00 │      6041 │     NULL │          1006.3 │     NULL │     18.0 │        7.7 │\n",
      "│ 1954-06-07 12:00:00 │      6030 │     78.0 │          1005.7 │     15.0 │     19.0 │        5.1 │\n",
      "├─────────────────────┴───────────┴──────────┴─────────────────┴──────────┴──────────┴────────────┤\n",
      "│ ? rows (>9999 rows, 20 shown)                                                         7 columns │\n",
      "└─────────────────────────────────────────────────────────────────────────────────────────────────┘\n",
      "\n"
     ]
    }
   ],
   "source": [
    "import duckdb\n",
    "\n",
    "data_path = './metobs_data/'\n",
    "# year = '1965'\n",
    "year = '*'\n",
    "filepattern = f'metobs_{year}_wide.parquet'\n",
    "file_path = data_path + filepattern\n",
    "\n",
    "metobs = duckdb.read_parquet(file_path,  union_by_name = True)\n",
    "\n",
    "query = \"\"\"\n",
    "-- SELECT observed, stationId, humidity, pressure, pressure_at_sea, temp_dew, temp_dry, wind_speed\n",
    "SELECT observed, stationId, humidity, pressure_at_sea, temp_dew, temp_dry, wind_speed\n",
    "FROM metobs\n",
    "WHERE stationId > 5000 and stationId < 34000\n",
    "    and wind_speed is not null\n",
    "order by observed, stationId desc\n",
    "\"\"\"\n",
    "windspeed_dk = duckdb.sql(query)\n",
    "\n",
    "windspeed_dk.show()\n"
   ]
  },
  {
   "cell_type": "code",
   "execution_count": 9,
   "metadata": {},
   "outputs": [
    {
     "name": "stdout",
     "output_type": "stream",
     "text": [
      "┌─────────────────────┬────────────────────┐\n",
      "│      observed       │  avg(wind_speed)   │\n",
      "│      timestamp      │       double       │\n",
      "├─────────────────────┼────────────────────┤\n",
      "│ 1954-01-01 00:00:00 │              2.625 │\n",
      "│ 1954-01-01 03:00:00 │  2.414285714285714 │\n",
      "│ 1954-01-01 06:00:00 │ 2.3428571428571425 │\n",
      "│ 1954-01-01 09:00:00 │             2.4375 │\n",
      "│ 1954-01-01 12:00:00 │ 2.9857142857142853 │\n",
      "│ 1954-01-01 15:00:00 │ 2.9000000000000004 │\n",
      "│ 1954-01-01 18:00:00 │               4.75 │\n",
      "│ 1954-01-01 21:00:00 │                6.3 │\n",
      "│ 1954-01-02 00:00:00 │             7.2125 │\n",
      "│ 1954-01-02 03:00:00 │             6.6125 │\n",
      "│          ·          │                 ·  │\n",
      "│          ·          │                 ·  │\n",
      "│          ·          │                 ·  │\n",
      "│ 1957-06-02 18:00:00 │                6.1 │\n",
      "│ 1957-06-02 21:00:00 │             3.2125 │\n",
      "│ 1957-06-03 00:00:00 │               2.95 │\n",
      "│ 1957-06-03 03:00:00 │ 3.8625000000000003 │\n",
      "│ 1957-06-03 06:00:00 │ 3.8625000000000003 │\n",
      "│ 1957-06-03 09:00:00 │              4.175 │\n",
      "│ 1957-06-03 12:00:00 │             4.7625 │\n",
      "│ 1957-06-03 15:00:00 │               5.15 │\n",
      "│ 1957-06-03 18:00:00 │              4.375 │\n",
      "│ 1957-06-03 21:00:00 │                2.9 │\n",
      "├─────────────────────┴────────────────────┤\n",
      "│ ? rows (>9999 rows, 20 shown)  2 columns │\n",
      "└──────────────────────────────────────────┘\n",
      "\n"
     ]
    }
   ],
   "source": [
    "import duckdb\n",
    "\n",
    "data_path = './metobs_data/'\n",
    "# year = '1965'\n",
    "year = '*'\n",
    "filepattern = f'metobs_{year}_wide.parquet'\n",
    "file_path = data_path + filepattern\n",
    "\n",
    "metobs = duckdb.read_parquet(file_path,  union_by_name = True)\n",
    "\n",
    "query = \"\"\"\n",
    "-- SELECT observed, stationId, humidity, pressure, pressure_at_sea, temp_dew, temp_dry, wind_speed\n",
    "-- SELECT observed, stationId, humidity, pressure_at_sea, temp_dew, temp_dry, wind_speed\n",
    "SELECT observed, avg(wind_speed)\n",
    "FROM metobs\n",
    "WHERE stationId > 5000 and stationId < 34000\n",
    "    and wind_speed is not null\n",
    "GROUP BY observed\n",
    "-- order by observed, stationId desc\n",
    "ORDER BY observed\n",
    "\"\"\"\n",
    "windspeed_dk_avg = duckdb.sql(query)\n",
    "\n",
    "windspeed_dk_avg.show()\n"
   ]
  },
  {
   "cell_type": "code",
   "execution_count": 2,
   "metadata": {},
   "outputs": [
    {
     "name": "stdout",
     "output_type": "stream",
     "text": [
      "┌─────────────────────┬────────────────────┐\n",
      "│        hour         │  avg(wind_speed)   │\n",
      "│      timestamp      │       double       │\n",
      "├─────────────────────┼────────────────────┤\n",
      "│ 1954-01-01 00:00:00 │              2.625 │\n",
      "│ 1954-01-01 03:00:00 │  2.414285714285714 │\n",
      "│ 1954-01-01 06:00:00 │ 2.3428571428571425 │\n",
      "│ 1954-01-01 09:00:00 │             2.4375 │\n",
      "│ 1954-01-01 12:00:00 │ 2.9857142857142853 │\n",
      "│ 1954-01-01 15:00:00 │                2.9 │\n",
      "│ 1954-01-01 18:00:00 │               4.75 │\n",
      "│ 1954-01-01 21:00:00 │                6.3 │\n",
      "│ 1954-01-02 00:00:00 │             7.2125 │\n",
      "│ 1954-01-02 03:00:00 │  6.612500000000001 │\n",
      "│          ·          │                 ·  │\n",
      "│          ·          │                 ·  │\n",
      "│          ·          │                 ·  │\n",
      "│ 1957-06-02 18:00:00 │                6.1 │\n",
      "│ 1957-06-02 21:00:00 │             3.2125 │\n",
      "│ 1957-06-03 00:00:00 │               2.95 │\n",
      "│ 1957-06-03 03:00:00 │             3.8625 │\n",
      "│ 1957-06-03 06:00:00 │ 3.8625000000000003 │\n",
      "│ 1957-06-03 09:00:00 │  4.175000000000001 │\n",
      "│ 1957-06-03 12:00:00 │             4.7625 │\n",
      "│ 1957-06-03 15:00:00 │               5.15 │\n",
      "│ 1957-06-03 18:00:00 │              4.375 │\n",
      "│ 1957-06-03 21:00:00 │                2.9 │\n",
      "├─────────────────────┴────────────────────┤\n",
      "│ ? rows (>9999 rows, 20 shown)  2 columns │\n",
      "└──────────────────────────────────────────┘\n",
      "\n"
     ]
    },
    {
     "ename": "",
     "evalue": "",
     "output_type": "error",
     "traceback": [
      "\u001b[1;31mThe Kernel crashed while executing code in the current cell or a previous cell. \n",
      "\u001b[1;31mPlease review the code in the cell(s) to identify a possible cause of the failure. \n",
      "\u001b[1;31mClick <a href='https://aka.ms/vscodeJupyterKernelCrash'>here</a> for more info. \n",
      "\u001b[1;31mView Jupyter <a href='command:jupyter.viewOutput'>log</a> for further details."
     ]
    }
   ],
   "source": [
    "import duckdb\n",
    "\n",
    "data_path = './metobs_data/'\n",
    "# year = '1965'\n",
    "year = '*'\n",
    "filepattern = f'metobs_{year}_wide.parquet'\n",
    "file_path = data_path + filepattern\n",
    "\n",
    "metobs = duckdb.read_parquet(file_path,  union_by_name = True)\n",
    "\n",
    "query = \"\"\"\n",
    "SELECT DATE_TRUNC('hour', observed) AS hour, avg(wind_speed)\n",
    "FROM metobs\n",
    "WHERE stationId > 5000 and stationId < 34000\n",
    "    and wind_speed is not null\n",
    "--    and observed > '2020-01-01'\n",
    "GROUP BY hour\n",
    "ORDER BY hour \n",
    "\"\"\"\n",
    "windspeed_dk_avg = duckdb.sql(query)\n",
    "\n",
    "windspeed_dk_avg.show()\n"
   ]
  }
 ],
 "metadata": {
  "kernelspec": {
   "display_name": ".venv",
   "language": "python",
   "name": "python3"
  },
  "language_info": {
   "codemirror_mode": {
    "name": "ipython",
    "version": 3
   },
   "file_extension": ".py",
   "mimetype": "text/x-python",
   "name": "python",
   "nbconvert_exporter": "python",
   "pygments_lexer": "ipython3",
   "version": "3.13.0"
  }
 },
 "nbformat": 4,
 "nbformat_minor": 2
}
